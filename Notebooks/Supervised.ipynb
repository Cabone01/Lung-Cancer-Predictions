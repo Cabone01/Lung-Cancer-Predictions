{
 "cells": [
  {
   "cell_type": "code",
   "execution_count": 2,
   "id": "264b9461",
   "metadata": {},
   "outputs": [],
   "source": [
    "import numpy as np\n",
    "import pandas as pd\n",
    "import seaborn as sns\n",
    "sns.set(style=\"whitegrid\")\n",
    "import matplotlib.pyplot as plt\n",
    "from sklearn.preprocessing import StandardScaler\n",
    "from sklearn.ensemble import RandomForestClassifier\n",
    "from sklearn.linear_model import LogisticRegression\n",
    "from sklearn.model_selection import train_test_split\n",
    "from sklearn.feature_selection import SelectFromModel\n",
    "from sklearn.metrics import confusion_matrix, classification_report\n",
    "from statsmodels.stats.outliers_influence import variance_inflation_factor"
   ]
  },
  {
   "cell_type": "code",
   "execution_count": 3,
   "id": "87d0f798",
   "metadata": {},
   "outputs": [
    {
     "data": {
      "text/html": [
       "<div>\n",
       "<style scoped>\n",
       "    .dataframe tbody tr th:only-of-type {\n",
       "        vertical-align: middle;\n",
       "    }\n",
       "\n",
       "    .dataframe tbody tr th {\n",
       "        vertical-align: top;\n",
       "    }\n",
       "\n",
       "    .dataframe thead th {\n",
       "        text-align: right;\n",
       "    }\n",
       "</style>\n",
       "<table border=\"1\" class=\"dataframe\">\n",
       "  <thead>\n",
       "    <tr style=\"text-align: right;\">\n",
       "      <th></th>\n",
       "      <th>Cancer_Level</th>\n",
       "      <th>Age</th>\n",
       "      <th>Gender</th>\n",
       "      <th>Air Pollution</th>\n",
       "      <th>Alcohol use</th>\n",
       "      <th>Dust Allergy</th>\n",
       "      <th>OccuPational Hazards</th>\n",
       "      <th>Genetic Risk</th>\n",
       "      <th>chronic Lung Disease</th>\n",
       "      <th>Balanced Diet</th>\n",
       "      <th>...</th>\n",
       "      <th>Coughing of Blood</th>\n",
       "      <th>Fatigue</th>\n",
       "      <th>Weight Loss</th>\n",
       "      <th>Shortness of Breath</th>\n",
       "      <th>Wheezing</th>\n",
       "      <th>Swallowing Difficulty</th>\n",
       "      <th>Clubbing of Finger Nails</th>\n",
       "      <th>Frequent Cold</th>\n",
       "      <th>Dry Cough</th>\n",
       "      <th>Snoring</th>\n",
       "    </tr>\n",
       "  </thead>\n",
       "  <tbody>\n",
       "    <tr>\n",
       "      <th>0</th>\n",
       "      <td>0</td>\n",
       "      <td>33</td>\n",
       "      <td>1</td>\n",
       "      <td>2</td>\n",
       "      <td>4</td>\n",
       "      <td>5</td>\n",
       "      <td>4</td>\n",
       "      <td>3</td>\n",
       "      <td>2</td>\n",
       "      <td>2</td>\n",
       "      <td>...</td>\n",
       "      <td>4</td>\n",
       "      <td>3</td>\n",
       "      <td>4</td>\n",
       "      <td>2</td>\n",
       "      <td>2</td>\n",
       "      <td>3</td>\n",
       "      <td>1</td>\n",
       "      <td>2</td>\n",
       "      <td>3</td>\n",
       "      <td>4</td>\n",
       "    </tr>\n",
       "    <tr>\n",
       "      <th>1</th>\n",
       "      <td>1</td>\n",
       "      <td>17</td>\n",
       "      <td>1</td>\n",
       "      <td>3</td>\n",
       "      <td>1</td>\n",
       "      <td>5</td>\n",
       "      <td>3</td>\n",
       "      <td>4</td>\n",
       "      <td>2</td>\n",
       "      <td>2</td>\n",
       "      <td>...</td>\n",
       "      <td>3</td>\n",
       "      <td>1</td>\n",
       "      <td>3</td>\n",
       "      <td>7</td>\n",
       "      <td>8</td>\n",
       "      <td>6</td>\n",
       "      <td>2</td>\n",
       "      <td>1</td>\n",
       "      <td>7</td>\n",
       "      <td>2</td>\n",
       "    </tr>\n",
       "    <tr>\n",
       "      <th>2</th>\n",
       "      <td>2</td>\n",
       "      <td>35</td>\n",
       "      <td>1</td>\n",
       "      <td>4</td>\n",
       "      <td>5</td>\n",
       "      <td>6</td>\n",
       "      <td>5</td>\n",
       "      <td>5</td>\n",
       "      <td>4</td>\n",
       "      <td>6</td>\n",
       "      <td>...</td>\n",
       "      <td>8</td>\n",
       "      <td>8</td>\n",
       "      <td>7</td>\n",
       "      <td>9</td>\n",
       "      <td>2</td>\n",
       "      <td>1</td>\n",
       "      <td>4</td>\n",
       "      <td>6</td>\n",
       "      <td>7</td>\n",
       "      <td>2</td>\n",
       "    </tr>\n",
       "    <tr>\n",
       "      <th>3</th>\n",
       "      <td>2</td>\n",
       "      <td>37</td>\n",
       "      <td>1</td>\n",
       "      <td>7</td>\n",
       "      <td>7</td>\n",
       "      <td>7</td>\n",
       "      <td>7</td>\n",
       "      <td>6</td>\n",
       "      <td>7</td>\n",
       "      <td>7</td>\n",
       "      <td>...</td>\n",
       "      <td>8</td>\n",
       "      <td>4</td>\n",
       "      <td>2</td>\n",
       "      <td>3</td>\n",
       "      <td>1</td>\n",
       "      <td>4</td>\n",
       "      <td>5</td>\n",
       "      <td>6</td>\n",
       "      <td>7</td>\n",
       "      <td>5</td>\n",
       "    </tr>\n",
       "    <tr>\n",
       "      <th>4</th>\n",
       "      <td>2</td>\n",
       "      <td>46</td>\n",
       "      <td>1</td>\n",
       "      <td>6</td>\n",
       "      <td>8</td>\n",
       "      <td>7</td>\n",
       "      <td>7</td>\n",
       "      <td>7</td>\n",
       "      <td>6</td>\n",
       "      <td>7</td>\n",
       "      <td>...</td>\n",
       "      <td>9</td>\n",
       "      <td>3</td>\n",
       "      <td>2</td>\n",
       "      <td>4</td>\n",
       "      <td>1</td>\n",
       "      <td>4</td>\n",
       "      <td>2</td>\n",
       "      <td>4</td>\n",
       "      <td>2</td>\n",
       "      <td>3</td>\n",
       "    </tr>\n",
       "  </tbody>\n",
       "</table>\n",
       "<p>5 rows × 24 columns</p>\n",
       "</div>"
      ],
      "text/plain": [
       "   Cancer_Level  Age  Gender  Air Pollution  Alcohol use  Dust Allergy  \\\n",
       "0             0   33       1              2            4             5   \n",
       "1             1   17       1              3            1             5   \n",
       "2             2   35       1              4            5             6   \n",
       "3             2   37       1              7            7             7   \n",
       "4             2   46       1              6            8             7   \n",
       "\n",
       "   OccuPational Hazards  Genetic Risk  chronic Lung Disease  Balanced Diet  \\\n",
       "0                     4             3                     2              2   \n",
       "1                     3             4                     2              2   \n",
       "2                     5             5                     4              6   \n",
       "3                     7             6                     7              7   \n",
       "4                     7             7                     6              7   \n",
       "\n",
       "   ...  Coughing of Blood  Fatigue  Weight Loss  Shortness of Breath  \\\n",
       "0  ...                  4        3            4                    2   \n",
       "1  ...                  3        1            3                    7   \n",
       "2  ...                  8        8            7                    9   \n",
       "3  ...                  8        4            2                    3   \n",
       "4  ...                  9        3            2                    4   \n",
       "\n",
       "   Wheezing  Swallowing Difficulty  Clubbing of Finger Nails  Frequent Cold  \\\n",
       "0         2                      3                         1              2   \n",
       "1         8                      6                         2              1   \n",
       "2         2                      1                         4              6   \n",
       "3         1                      4                         5              6   \n",
       "4         1                      4                         2              4   \n",
       "\n",
       "   Dry Cough  Snoring  \n",
       "0          3        4  \n",
       "1          7        2  \n",
       "2          7        2  \n",
       "3          7        5  \n",
       "4          2        3  \n",
       "\n",
       "[5 rows x 24 columns]"
      ]
     },
     "execution_count": 3,
     "metadata": {},
     "output_type": "execute_result"
    }
   ],
   "source": [
    "df = pd.read_csv(\"../Datasets/Lung_Cancer_Clean_Data.csv\")\n",
    "df.head()"
   ]
  },
  {
   "cell_type": "code",
   "execution_count": 4,
   "id": "ed33009e",
   "metadata": {},
   "outputs": [
    {
     "data": {
      "text/plain": [
       "<AxesSubplot:xlabel='Cancer_Level', ylabel='count'>"
      ]
     },
     "execution_count": 4,
     "metadata": {},
     "output_type": "execute_result"
    },
    {
     "data": {
      "image/png": "[encoded data removed]",
      "text/plain": [
       "<Figure size 432x288 with 1 Axes>"
      ]
     },
     "metadata": {},
     "output_type": "display_data"
    }
   ],
   "source": [
    "sns.countplot(x=\"Cancer_Level\", data=df)"
   ]
  },
  {
   "cell_type": "code",
   "execution_count": 5,
   "id": "726b6434",
   "metadata": {},
   "outputs": [
    {
     "name": "stdout",
     "output_type": "stream",
     "text": [
      "Amount of Patients ____ Cancer_0: 303\n",
      "Percent of Patients ____ Cancer_0: 30.3%\n",
      "Amount of Patients ____ Cancer_1: 332\n",
      "Percent of Patients ____ Cancer_1: 33.2%\n",
      "Amount of Patients ____ Cancer_2: 365\n",
      "Percent of Patients ____ Cancer_2: 36.5%\n"
     ]
    }
   ],
   "source": [
    "cancer_level_0 = len(df[df[\"Cancer_Level\"]==0])\n",
    "pct_of_lvl_0 = cancer_level_0 / len(df[\"Cancer_Level\"]) * 100\n",
    "\n",
    "cancer_level_1 = len(df[df[\"Cancer_Level\"]==1])\n",
    "pct_of_lvl_1 = cancer_level_1 / len(df[\"Cancer_Level\"]) * 100\n",
    "\n",
    "cancer_level_2 = len(df[df[\"Cancer_Level\"]==2])\n",
    "pct_of_lvl_2 = cancer_level_2 / len(df[\"Cancer_Level\"]) * 100\n",
    "\n",
    "print(f\"Amount of Patients ____ Cancer_0: {cancer_level_0}\")\n",
    "print(f\"Percent of Patients ____ Cancer_0: {pct_of_lvl_0}%\")\n",
    "print(f\"Amount of Patients ____ Cancer_1: {cancer_level_1}\")\n",
    "print(f\"Percent of Patients ____ Cancer_1: {pct_of_lvl_1}%\")\n",
    "print(f\"Amount of Patients ____ Cancer_2: {cancer_level_2}\")\n",
    "print(f\"Percent of Patients ____ Cancer_2: {pct_of_lvl_2}%\")"
   ]
  },
  {
   "cell_type": "code",
   "execution_count": 6,
   "id": "bca61560",
   "metadata": {},
   "outputs": [],
   "source": [
    "dummy_df = df.copy(deep=True)"
   ]
  },
  {
   "cell_type": "code",
   "execution_count": 7,
   "id": "5b37e4fa",
   "metadata": {},
   "outputs": [
    {
     "data": {
      "text/plain": [
       "<AxesSubplot:>"
      ]
     },
     "execution_count": 7,
     "metadata": {},
     "output_type": "execute_result"
    },
    {
     "data": {
      "image/png": "[encoded data removed]",
      "text/plain": [
       "<Figure size 432x288 with 2 Axes>"
      ]
     },
     "metadata": {},
     "output_type": "display_data"
    }
   ],
   "source": [
    "matrix = np.tril(dummy_df.iloc[:, 0:8].corr())\n",
    "sns.heatmap(dummy_df.iloc[:, 0:8].corr(), annot=True, mask=matrix)"
   ]
  },
  {
   "cell_type": "code",
   "execution_count": 8,
   "id": "4b7ee3d3",
   "metadata": {},
   "outputs": [
    {
     "data": {
      "text/plain": [
       "<AxesSubplot:>"
      ]
     },
     "execution_count": 8,
     "metadata": {},
     "output_type": "execute_result"
    },
    {
     "data": {
      "image/png": "[encoded data removed]",
      "text/plain": [
       "<Figure size 432x288 with 2 Axes>"
      ]
     },
     "metadata": {},
     "output_type": "display_data"
    }
   ],
   "source": [
    "columns_to_drop = list(dummy_df.iloc[:, 1:9].columns.values)\n",
    "dummy_df = dummy_df.drop(columns=columns_to_drop)\n",
    "\n",
    "matrix = np.tril(dummy_df.iloc[:, 0:9].corr())\n",
    "sns.heatmap(dummy_df.iloc[:, 0:9].corr(), annot=True, mask=matrix)"
   ]
  },
  {
   "cell_type": "code",
   "execution_count": 9,
   "id": "b66b33e5",
   "metadata": {},
   "outputs": [
    {
     "data": {
      "text/plain": [
       "<AxesSubplot:>"
      ]
     },
     "execution_count": 9,
     "metadata": {},
     "output_type": "execute_result"
    },
    {
     "data": {
      "image/png": "[encoded data removed]",
      "text/plain": [
       "<Figure size 432x288 with 2 Axes>"
      ]
     },
     "metadata": {},
     "output_type": "display_data"
    }
   ],
   "source": [
    "columns_to_drop = list(dummy_df.iloc[:, 1:9].columns.values)\n",
    "dummy_df = dummy_df.drop(columns=columns_to_drop)\n",
    "\n",
    "matrix = np.tril(dummy_df.iloc[:, 0:9].corr())\n",
    "sns.heatmap(dummy_df.iloc[:, 0:9].corr(), annot=True, mask=matrix)"
   ]
  },
  {
   "cell_type": "code",
   "execution_count": 10,
   "id": "4d0b8316",
   "metadata": {},
   "outputs": [
    {
     "data": {
      "text/html": [
       "<div>\n",
       "<style scoped>\n",
       "    .dataframe tbody tr th:only-of-type {\n",
       "        vertical-align: middle;\n",
       "    }\n",
       "\n",
       "    .dataframe tbody tr th {\n",
       "        vertical-align: top;\n",
       "    }\n",
       "\n",
       "    .dataframe thead th {\n",
       "        text-align: right;\n",
       "    }\n",
       "</style>\n",
       "<table border=\"1\" class=\"dataframe\">\n",
       "  <thead>\n",
       "    <tr style=\"text-align: right;\">\n",
       "      <th></th>\n",
       "      <th>Age</th>\n",
       "      <th>Gender</th>\n",
       "      <th>Air Pollution</th>\n",
       "      <th>Alcohol use</th>\n",
       "      <th>Dust Allergy</th>\n",
       "      <th>OccuPational Hazards</th>\n",
       "      <th>Genetic Risk</th>\n",
       "      <th>chronic Lung Disease</th>\n",
       "      <th>Balanced Diet</th>\n",
       "      <th>Obesity</th>\n",
       "      <th>...</th>\n",
       "      <th>Coughing of Blood</th>\n",
       "      <th>Fatigue</th>\n",
       "      <th>Weight Loss</th>\n",
       "      <th>Shortness of Breath</th>\n",
       "      <th>Wheezing</th>\n",
       "      <th>Swallowing Difficulty</th>\n",
       "      <th>Clubbing of Finger Nails</th>\n",
       "      <th>Frequent Cold</th>\n",
       "      <th>Dry Cough</th>\n",
       "      <th>Snoring</th>\n",
       "    </tr>\n",
       "    <tr>\n",
       "      <th>Cancer_Level</th>\n",
       "      <th></th>\n",
       "      <th></th>\n",
       "      <th></th>\n",
       "      <th></th>\n",
       "      <th></th>\n",
       "      <th></th>\n",
       "      <th></th>\n",
       "      <th></th>\n",
       "      <th></th>\n",
       "      <th></th>\n",
       "      <th></th>\n",
       "      <th></th>\n",
       "      <th></th>\n",
       "      <th></th>\n",
       "      <th></th>\n",
       "      <th></th>\n",
       "      <th></th>\n",
       "      <th></th>\n",
       "      <th></th>\n",
       "      <th></th>\n",
       "      <th></th>\n",
       "    </tr>\n",
       "  </thead>\n",
       "  <tbody>\n",
       "    <tr>\n",
       "      <th>0</th>\n",
       "      <td>35.412541</td>\n",
       "      <td>1.508251</td>\n",
       "      <td>2.600660</td>\n",
       "      <td>2.231023</td>\n",
       "      <td>3.112211</td>\n",
       "      <td>3.000000</td>\n",
       "      <td>2.732673</td>\n",
       "      <td>3.092409</td>\n",
       "      <td>3.000000</td>\n",
       "      <td>2.409241</td>\n",
       "      <td>...</td>\n",
       "      <td>2.861386</td>\n",
       "      <td>2.171617</td>\n",
       "      <td>2.501650</td>\n",
       "      <td>2.498350</td>\n",
       "      <td>2.574257</td>\n",
       "      <td>2.759076</td>\n",
       "      <td>2.468647</td>\n",
       "      <td>2.366337</td>\n",
       "      <td>2.914191</td>\n",
       "      <td>2.141914</td>\n",
       "    </tr>\n",
       "    <tr>\n",
       "      <th>1</th>\n",
       "      <td>38.620482</td>\n",
       "      <td>1.406627</td>\n",
       "      <td>2.933735</td>\n",
       "      <td>4.198795</td>\n",
       "      <td>5.442771</td>\n",
       "      <td>4.716867</td>\n",
       "      <td>4.292169</td>\n",
       "      <td>3.963855</td>\n",
       "      <td>3.512048</td>\n",
       "      <td>3.903614</td>\n",
       "      <td>...</td>\n",
       "      <td>3.846386</td>\n",
       "      <td>3.487952</td>\n",
       "      <td>4.415663</td>\n",
       "      <td>4.632530</td>\n",
       "      <td>4.756024</td>\n",
       "      <td>4.159639</td>\n",
       "      <td>4.936747</td>\n",
       "      <td>3.674699</td>\n",
       "      <td>3.695783</td>\n",
       "      <td>3.310241</td>\n",
       "    </tr>\n",
       "    <tr>\n",
       "      <th>2</th>\n",
       "      <td>37.320548</td>\n",
       "      <td>1.309589</td>\n",
       "      <td>5.693151</td>\n",
       "      <td>6.830137</td>\n",
       "      <td>6.616438</td>\n",
       "      <td>6.479452</td>\n",
       "      <td>6.375342</td>\n",
       "      <td>5.827397</td>\n",
       "      <td>6.619178</td>\n",
       "      <td>6.682192</td>\n",
       "      <td>...</td>\n",
       "      <td>7.438356</td>\n",
       "      <td>5.589041</td>\n",
       "      <td>4.468493</td>\n",
       "      <td>5.328767</td>\n",
       "      <td>3.884932</td>\n",
       "      <td>4.189041</td>\n",
       "      <td>4.208219</td>\n",
       "      <td>4.380822</td>\n",
       "      <td>4.775342</td>\n",
       "      <td>3.227397</td>\n",
       "    </tr>\n",
       "  </tbody>\n",
       "</table>\n",
       "<p>3 rows × 23 columns</p>\n",
       "</div>"
      ],
      "text/plain": [
       "                    Age    Gender  Air Pollution  Alcohol use  Dust Allergy  \\\n",
       "Cancer_Level                                                                  \n",
       "0             35.412541  1.508251       2.600660     2.231023      3.112211   \n",
       "1             38.620482  1.406627       2.933735     4.198795      5.442771   \n",
       "2             37.320548  1.309589       5.693151     6.830137      6.616438   \n",
       "\n",
       "              OccuPational Hazards  Genetic Risk  chronic Lung Disease  \\\n",
       "Cancer_Level                                                             \n",
       "0                         3.000000      2.732673              3.092409   \n",
       "1                         4.716867      4.292169              3.963855   \n",
       "2                         6.479452      6.375342              5.827397   \n",
       "\n",
       "              Balanced Diet   Obesity  ...  Coughing of Blood   Fatigue  \\\n",
       "Cancer_Level                           ...                                \n",
       "0                  3.000000  2.409241  ...           2.861386  2.171617   \n",
       "1                  3.512048  3.903614  ...           3.846386  3.487952   \n",
       "2                  6.619178  6.682192  ...           7.438356  5.589041   \n",
       "\n",
       "              Weight Loss  Shortness of Breath  Wheezing  \\\n",
       "Cancer_Level                                               \n",
       "0                2.501650             2.498350  2.574257   \n",
       "1                4.415663             4.632530  4.756024   \n",
       "2                4.468493             5.328767  3.884932   \n",
       "\n",
       "              Swallowing Difficulty  Clubbing of Finger Nails  Frequent Cold  \\\n",
       "Cancer_Level                                                                   \n",
       "0                          2.759076                  2.468647       2.366337   \n",
       "1                          4.159639                  4.936747       3.674699   \n",
       "2                          4.189041                  4.208219       4.380822   \n",
       "\n",
       "              Dry Cough   Snoring  \n",
       "Cancer_Level                       \n",
       "0              2.914191  2.141914  \n",
       "1              3.695783  3.310241  \n",
       "2              4.775342  3.227397  \n",
       "\n",
       "[3 rows x 23 columns]"
      ]
     },
     "execution_count": 10,
     "metadata": {},
     "output_type": "execute_result"
    }
   ],
   "source": [
    "df.groupby(\"Cancer_Level\").mean()"
   ]
  },
  {
   "cell_type": "code",
   "execution_count": 11,
   "id": "6920fe59",
   "metadata": {},
   "outputs": [
    {
     "data": {
      "text/plain": [
       "<AxesSubplot:xlabel='Cancer_Level', ylabel='count'>"
      ]
     },
     "execution_count": 11,
     "metadata": {},
     "output_type": "execute_result"
    },
    {
     "data": {
      "image/png": "[encoded data removed]",
      "text/plain": [
       "<Figure size 432x288 with 1 Axes>"
      ]
     },
     "metadata": {},
     "output_type": "display_data"
    }
   ],
   "source": [
    "sns.countplot(x=\"Cancer_Level\", data=df, hue=\"Gender\")"
   ]
  },
  {
   "cell_type": "code",
   "execution_count": 12,
   "id": "3d270fa9",
   "metadata": {},
   "outputs": [
    {
     "data": {
      "text/plain": [
       "<AxesSubplot:xlabel='Cancer_Level', ylabel='count'>"
      ]
     },
     "execution_count": 12,
     "metadata": {},
     "output_type": "execute_result"
    },
    {
     "data": {
      "image/png": "[encoded data removed]",
      "text/plain": [
       "<Figure size 432x288 with 1 Axes>"
      ]
     },
     "metadata": {},
     "output_type": "display_data"
    }
   ],
   "source": [
    "sns.countplot(x=\"Cancer_Level\", data=df, hue=\"Obesity\")"
   ]
  },
  {
   "cell_type": "code",
   "execution_count": 13,
   "id": "b7c5284d",
   "metadata": {},
   "outputs": [
    {
     "data": {
      "text/plain": [
       "<AxesSubplot:xlabel='Cancer_Level', ylabel='count'>"
      ]
     },
     "execution_count": 13,
     "metadata": {},
     "output_type": "execute_result"
    },
    {
     "data": {
      "image/png": "[encoded data removed]",
      "text/plain": [
       "<Figure size 432x288 with 1 Axes>"
      ]
     },
     "metadata": {},
     "output_type": "display_data"
    }
   ],
   "source": [
    "sns.countplot(x=\"Cancer_Level\", data=df, hue=\"Smoking\")"
   ]
  },
  {
   "cell_type": "code",
   "execution_count": 14,
   "id": "3066927c",
   "metadata": {},
   "outputs": [
    {
     "data": {
      "text/plain": [
       "<AxesSubplot:xlabel='Cancer_Level', ylabel='count'>"
      ]
     },
     "execution_count": 14,
     "metadata": {},
     "output_type": "execute_result"
    },
    {
     "data": {
      "image/png": "[encoded data removed]",
      "text/plain": [
       "<Figure size 432x288 with 1 Axes>"
      ]
     },
     "metadata": {},
     "output_type": "display_data"
    }
   ],
   "source": [
    "sns.countplot(x=\"Cancer_Level\", data=df, hue=\"chronic Lung Disease\")"
   ]
  },
  {
   "cell_type": "code",
   "execution_count": 15,
   "id": "0302d337",
   "metadata": {},
   "outputs": [
    {
     "data": {
      "text/plain": [
       "<AxesSubplot:xlabel='Cancer_Level', ylabel='count'>"
      ]
     },
     "execution_count": 15,
     "metadata": {},
     "output_type": "execute_result"
    },
    {
     "data": {
      "image/png": "[encoded data removed]",
      "text/plain": [
       "<Figure size 432x288 with 1 Axes>"
      ]
     },
     "metadata": {},
     "output_type": "display_data"
    }
   ],
   "source": [
    "sns.countplot(x=\"Cancer_Level\", data=df, hue=\"Genetic Risk\")"
   ]
  },
  {
   "cell_type": "markdown",
   "id": "e5ff23f3",
   "metadata": {},
   "source": [
    "## Train Test Split"
   ]
  },
  {
   "cell_type": "code",
   "execution_count": 16,
   "id": "1a1f0591",
   "metadata": {},
   "outputs": [
    {
     "data": {
      "text/html": [
       "<div>\n",
       "<style scoped>\n",
       "    .dataframe tbody tr th:only-of-type {\n",
       "        vertical-align: middle;\n",
       "    }\n",
       "\n",
       "    .dataframe tbody tr th {\n",
       "        vertical-align: top;\n",
       "    }\n",
       "\n",
       "    .dataframe thead th {\n",
       "        text-align: right;\n",
       "    }\n",
       "</style>\n",
       "<table border=\"1\" class=\"dataframe\">\n",
       "  <thead>\n",
       "    <tr style=\"text-align: right;\">\n",
       "      <th></th>\n",
       "      <th>Age</th>\n",
       "      <th>Gender</th>\n",
       "      <th>Air Pollution</th>\n",
       "      <th>Alcohol use</th>\n",
       "      <th>Dust Allergy</th>\n",
       "      <th>OccuPational Hazards</th>\n",
       "      <th>Genetic Risk</th>\n",
       "      <th>chronic Lung Disease</th>\n",
       "      <th>Balanced Diet</th>\n",
       "      <th>Obesity</th>\n",
       "      <th>...</th>\n",
       "      <th>Coughing of Blood</th>\n",
       "      <th>Fatigue</th>\n",
       "      <th>Weight Loss</th>\n",
       "      <th>Shortness of Breath</th>\n",
       "      <th>Wheezing</th>\n",
       "      <th>Swallowing Difficulty</th>\n",
       "      <th>Clubbing of Finger Nails</th>\n",
       "      <th>Frequent Cold</th>\n",
       "      <th>Dry Cough</th>\n",
       "      <th>Snoring</th>\n",
       "    </tr>\n",
       "  </thead>\n",
       "  <tbody>\n",
       "    <tr>\n",
       "      <th>0</th>\n",
       "      <td>33</td>\n",
       "      <td>1</td>\n",
       "      <td>2</td>\n",
       "      <td>4</td>\n",
       "      <td>5</td>\n",
       "      <td>4</td>\n",
       "      <td>3</td>\n",
       "      <td>2</td>\n",
       "      <td>2</td>\n",
       "      <td>4</td>\n",
       "      <td>...</td>\n",
       "      <td>4</td>\n",
       "      <td>3</td>\n",
       "      <td>4</td>\n",
       "      <td>2</td>\n",
       "      <td>2</td>\n",
       "      <td>3</td>\n",
       "      <td>1</td>\n",
       "      <td>2</td>\n",
       "      <td>3</td>\n",
       "      <td>4</td>\n",
       "    </tr>\n",
       "    <tr>\n",
       "      <th>1</th>\n",
       "      <td>17</td>\n",
       "      <td>1</td>\n",
       "      <td>3</td>\n",
       "      <td>1</td>\n",
       "      <td>5</td>\n",
       "      <td>3</td>\n",
       "      <td>4</td>\n",
       "      <td>2</td>\n",
       "      <td>2</td>\n",
       "      <td>2</td>\n",
       "      <td>...</td>\n",
       "      <td>3</td>\n",
       "      <td>1</td>\n",
       "      <td>3</td>\n",
       "      <td>7</td>\n",
       "      <td>8</td>\n",
       "      <td>6</td>\n",
       "      <td>2</td>\n",
       "      <td>1</td>\n",
       "      <td>7</td>\n",
       "      <td>2</td>\n",
       "    </tr>\n",
       "    <tr>\n",
       "      <th>2</th>\n",
       "      <td>35</td>\n",
       "      <td>1</td>\n",
       "      <td>4</td>\n",
       "      <td>5</td>\n",
       "      <td>6</td>\n",
       "      <td>5</td>\n",
       "      <td>5</td>\n",
       "      <td>4</td>\n",
       "      <td>6</td>\n",
       "      <td>7</td>\n",
       "      <td>...</td>\n",
       "      <td>8</td>\n",
       "      <td>8</td>\n",
       "      <td>7</td>\n",
       "      <td>9</td>\n",
       "      <td>2</td>\n",
       "      <td>1</td>\n",
       "      <td>4</td>\n",
       "      <td>6</td>\n",
       "      <td>7</td>\n",
       "      <td>2</td>\n",
       "    </tr>\n",
       "    <tr>\n",
       "      <th>3</th>\n",
       "      <td>37</td>\n",
       "      <td>1</td>\n",
       "      <td>7</td>\n",
       "      <td>7</td>\n",
       "      <td>7</td>\n",
       "      <td>7</td>\n",
       "      <td>6</td>\n",
       "      <td>7</td>\n",
       "      <td>7</td>\n",
       "      <td>7</td>\n",
       "      <td>...</td>\n",
       "      <td>8</td>\n",
       "      <td>4</td>\n",
       "      <td>2</td>\n",
       "      <td>3</td>\n",
       "      <td>1</td>\n",
       "      <td>4</td>\n",
       "      <td>5</td>\n",
       "      <td>6</td>\n",
       "      <td>7</td>\n",
       "      <td>5</td>\n",
       "    </tr>\n",
       "    <tr>\n",
       "      <th>4</th>\n",
       "      <td>46</td>\n",
       "      <td>1</td>\n",
       "      <td>6</td>\n",
       "      <td>8</td>\n",
       "      <td>7</td>\n",
       "      <td>7</td>\n",
       "      <td>7</td>\n",
       "      <td>6</td>\n",
       "      <td>7</td>\n",
       "      <td>7</td>\n",
       "      <td>...</td>\n",
       "      <td>9</td>\n",
       "      <td>3</td>\n",
       "      <td>2</td>\n",
       "      <td>4</td>\n",
       "      <td>1</td>\n",
       "      <td>4</td>\n",
       "      <td>2</td>\n",
       "      <td>4</td>\n",
       "      <td>2</td>\n",
       "      <td>3</td>\n",
       "    </tr>\n",
       "  </tbody>\n",
       "</table>\n",
       "<p>5 rows × 23 columns</p>\n",
       "</div>"
      ],
      "text/plain": [
       "   Age  Gender  Air Pollution  Alcohol use  Dust Allergy  \\\n",
       "0   33       1              2            4             5   \n",
       "1   17       1              3            1             5   \n",
       "2   35       1              4            5             6   \n",
       "3   37       1              7            7             7   \n",
       "4   46       1              6            8             7   \n",
       "\n",
       "   OccuPational Hazards  Genetic Risk  chronic Lung Disease  Balanced Diet  \\\n",
       "0                     4             3                     2              2   \n",
       "1                     3             4                     2              2   \n",
       "2                     5             5                     4              6   \n",
       "3                     7             6                     7              7   \n",
       "4                     7             7                     6              7   \n",
       "\n",
       "   Obesity  ...  Coughing of Blood  Fatigue  Weight Loss  Shortness of Breath  \\\n",
       "0        4  ...                  4        3            4                    2   \n",
       "1        2  ...                  3        1            3                    7   \n",
       "2        7  ...                  8        8            7                    9   \n",
       "3        7  ...                  8        4            2                    3   \n",
       "4        7  ...                  9        3            2                    4   \n",
       "\n",
       "   Wheezing  Swallowing Difficulty  Clubbing of Finger Nails  Frequent Cold  \\\n",
       "0         2                      3                         1              2   \n",
       "1         8                      6                         2              1   \n",
       "2         2                      1                         4              6   \n",
       "3         1                      4                         5              6   \n",
       "4         1                      4                         2              4   \n",
       "\n",
       "   Dry Cough  Snoring  \n",
       "0          3        4  \n",
       "1          7        2  \n",
       "2          7        2  \n",
       "3          7        5  \n",
       "4          2        3  \n",
       "\n",
       "[5 rows x 23 columns]"
      ]
     },
     "execution_count": 16,
     "metadata": {},
     "output_type": "execute_result"
    }
   ],
   "source": [
    "y = df['Cancer_Level'].values\n",
    "X = df.drop('Cancer_Level', axis=1)\n",
    "X.head()"
   ]
  },
  {
   "cell_type": "code",
   "execution_count": 17,
   "id": "162c8952",
   "metadata": {},
   "outputs": [
    {
     "data": {
      "text/html": [
       "<div>\n",
       "<style scoped>\n",
       "    .dataframe tbody tr th:only-of-type {\n",
       "        vertical-align: middle;\n",
       "    }\n",
       "\n",
       "    .dataframe tbody tr th {\n",
       "        vertical-align: top;\n",
       "    }\n",
       "\n",
       "    .dataframe thead th {\n",
       "        text-align: right;\n",
       "    }\n",
       "</style>\n",
       "<table border=\"1\" class=\"dataframe\">\n",
       "  <thead>\n",
       "    <tr style=\"text-align: right;\">\n",
       "      <th></th>\n",
       "      <th>Age</th>\n",
       "      <th>Gender</th>\n",
       "      <th>Air Pollution</th>\n",
       "      <th>Alcohol use</th>\n",
       "      <th>Dust Allergy</th>\n",
       "      <th>OccuPational Hazards</th>\n",
       "      <th>Genetic Risk</th>\n",
       "      <th>chronic Lung Disease</th>\n",
       "      <th>Balanced Diet</th>\n",
       "      <th>Obesity</th>\n",
       "      <th>...</th>\n",
       "      <th>Coughing of Blood</th>\n",
       "      <th>Fatigue</th>\n",
       "      <th>Weight Loss</th>\n",
       "      <th>Shortness of Breath</th>\n",
       "      <th>Wheezing</th>\n",
       "      <th>Swallowing Difficulty</th>\n",
       "      <th>Clubbing of Finger Nails</th>\n",
       "      <th>Frequent Cold</th>\n",
       "      <th>Dry Cough</th>\n",
       "      <th>Snoring</th>\n",
       "    </tr>\n",
       "  </thead>\n",
       "  <tbody>\n",
       "    <tr>\n",
       "      <th>680</th>\n",
       "      <td>27</td>\n",
       "      <td>2</td>\n",
       "      <td>3</td>\n",
       "      <td>1</td>\n",
       "      <td>4</td>\n",
       "      <td>2</td>\n",
       "      <td>3</td>\n",
       "      <td>2</td>\n",
       "      <td>3</td>\n",
       "      <td>3</td>\n",
       "      <td>...</td>\n",
       "      <td>2</td>\n",
       "      <td>2</td>\n",
       "      <td>2</td>\n",
       "      <td>3</td>\n",
       "      <td>4</td>\n",
       "      <td>1</td>\n",
       "      <td>5</td>\n",
       "      <td>2</td>\n",
       "      <td>6</td>\n",
       "      <td>2</td>\n",
       "    </tr>\n",
       "    <tr>\n",
       "      <th>177</th>\n",
       "      <td>45</td>\n",
       "      <td>1</td>\n",
       "      <td>3</td>\n",
       "      <td>2</td>\n",
       "      <td>4</td>\n",
       "      <td>2</td>\n",
       "      <td>3</td>\n",
       "      <td>2</td>\n",
       "      <td>3</td>\n",
       "      <td>3</td>\n",
       "      <td>...</td>\n",
       "      <td>3</td>\n",
       "      <td>4</td>\n",
       "      <td>5</td>\n",
       "      <td>6</td>\n",
       "      <td>5</td>\n",
       "      <td>5</td>\n",
       "      <td>4</td>\n",
       "      <td>6</td>\n",
       "      <td>5</td>\n",
       "      <td>4</td>\n",
       "    </tr>\n",
       "    <tr>\n",
       "      <th>395</th>\n",
       "      <td>55</td>\n",
       "      <td>1</td>\n",
       "      <td>3</td>\n",
       "      <td>1</td>\n",
       "      <td>1</td>\n",
       "      <td>1</td>\n",
       "      <td>2</td>\n",
       "      <td>3</td>\n",
       "      <td>4</td>\n",
       "      <td>1</td>\n",
       "      <td>...</td>\n",
       "      <td>3</td>\n",
       "      <td>2</td>\n",
       "      <td>5</td>\n",
       "      <td>2</td>\n",
       "      <td>1</td>\n",
       "      <td>2</td>\n",
       "      <td>3</td>\n",
       "      <td>4</td>\n",
       "      <td>5</td>\n",
       "      <td>2</td>\n",
       "    </tr>\n",
       "    <tr>\n",
       "      <th>911</th>\n",
       "      <td>29</td>\n",
       "      <td>2</td>\n",
       "      <td>6</td>\n",
       "      <td>7</td>\n",
       "      <td>7</td>\n",
       "      <td>7</td>\n",
       "      <td>7</td>\n",
       "      <td>6</td>\n",
       "      <td>7</td>\n",
       "      <td>7</td>\n",
       "      <td>...</td>\n",
       "      <td>7</td>\n",
       "      <td>2</td>\n",
       "      <td>7</td>\n",
       "      <td>6</td>\n",
       "      <td>7</td>\n",
       "      <td>6</td>\n",
       "      <td>7</td>\n",
       "      <td>2</td>\n",
       "      <td>3</td>\n",
       "      <td>1</td>\n",
       "    </tr>\n",
       "    <tr>\n",
       "      <th>793</th>\n",
       "      <td>17</td>\n",
       "      <td>1</td>\n",
       "      <td>3</td>\n",
       "      <td>1</td>\n",
       "      <td>5</td>\n",
       "      <td>3</td>\n",
       "      <td>4</td>\n",
       "      <td>2</td>\n",
       "      <td>2</td>\n",
       "      <td>2</td>\n",
       "      <td>...</td>\n",
       "      <td>3</td>\n",
       "      <td>1</td>\n",
       "      <td>3</td>\n",
       "      <td>7</td>\n",
       "      <td>8</td>\n",
       "      <td>6</td>\n",
       "      <td>2</td>\n",
       "      <td>1</td>\n",
       "      <td>7</td>\n",
       "      <td>2</td>\n",
       "    </tr>\n",
       "    <tr>\n",
       "      <th>...</th>\n",
       "      <td>...</td>\n",
       "      <td>...</td>\n",
       "      <td>...</td>\n",
       "      <td>...</td>\n",
       "      <td>...</td>\n",
       "      <td>...</td>\n",
       "      <td>...</td>\n",
       "      <td>...</td>\n",
       "      <td>...</td>\n",
       "      <td>...</td>\n",
       "      <td>...</td>\n",
       "      <td>...</td>\n",
       "      <td>...</td>\n",
       "      <td>...</td>\n",
       "      <td>...</td>\n",
       "      <td>...</td>\n",
       "      <td>...</td>\n",
       "      <td>...</td>\n",
       "      <td>...</td>\n",
       "      <td>...</td>\n",
       "      <td>...</td>\n",
       "    </tr>\n",
       "    <tr>\n",
       "      <th>106</th>\n",
       "      <td>33</td>\n",
       "      <td>1</td>\n",
       "      <td>6</td>\n",
       "      <td>7</td>\n",
       "      <td>7</td>\n",
       "      <td>7</td>\n",
       "      <td>7</td>\n",
       "      <td>7</td>\n",
       "      <td>6</td>\n",
       "      <td>7</td>\n",
       "      <td>...</td>\n",
       "      <td>7</td>\n",
       "      <td>8</td>\n",
       "      <td>5</td>\n",
       "      <td>7</td>\n",
       "      <td>6</td>\n",
       "      <td>7</td>\n",
       "      <td>8</td>\n",
       "      <td>7</td>\n",
       "      <td>6</td>\n",
       "      <td>2</td>\n",
       "    </tr>\n",
       "    <tr>\n",
       "      <th>270</th>\n",
       "      <td>24</td>\n",
       "      <td>2</td>\n",
       "      <td>1</td>\n",
       "      <td>2</td>\n",
       "      <td>2</td>\n",
       "      <td>3</td>\n",
       "      <td>2</td>\n",
       "      <td>4</td>\n",
       "      <td>2</td>\n",
       "      <td>3</td>\n",
       "      <td>...</td>\n",
       "      <td>1</td>\n",
       "      <td>1</td>\n",
       "      <td>1</td>\n",
       "      <td>1</td>\n",
       "      <td>2</td>\n",
       "      <td>3</td>\n",
       "      <td>4</td>\n",
       "      <td>5</td>\n",
       "      <td>2</td>\n",
       "      <td>1</td>\n",
       "    </tr>\n",
       "    <tr>\n",
       "      <th>860</th>\n",
       "      <td>36</td>\n",
       "      <td>2</td>\n",
       "      <td>2</td>\n",
       "      <td>1</td>\n",
       "      <td>5</td>\n",
       "      <td>3</td>\n",
       "      <td>2</td>\n",
       "      <td>3</td>\n",
       "      <td>2</td>\n",
       "      <td>4</td>\n",
       "      <td>...</td>\n",
       "      <td>4</td>\n",
       "      <td>6</td>\n",
       "      <td>7</td>\n",
       "      <td>2</td>\n",
       "      <td>5</td>\n",
       "      <td>8</td>\n",
       "      <td>1</td>\n",
       "      <td>3</td>\n",
       "      <td>2</td>\n",
       "      <td>3</td>\n",
       "    </tr>\n",
       "    <tr>\n",
       "      <th>435</th>\n",
       "      <td>49</td>\n",
       "      <td>1</td>\n",
       "      <td>6</td>\n",
       "      <td>5</td>\n",
       "      <td>6</td>\n",
       "      <td>5</td>\n",
       "      <td>5</td>\n",
       "      <td>4</td>\n",
       "      <td>6</td>\n",
       "      <td>7</td>\n",
       "      <td>...</td>\n",
       "      <td>8</td>\n",
       "      <td>8</td>\n",
       "      <td>7</td>\n",
       "      <td>9</td>\n",
       "      <td>2</td>\n",
       "      <td>1</td>\n",
       "      <td>4</td>\n",
       "      <td>6</td>\n",
       "      <td>7</td>\n",
       "      <td>2</td>\n",
       "    </tr>\n",
       "    <tr>\n",
       "      <th>102</th>\n",
       "      <td>49</td>\n",
       "      <td>1</td>\n",
       "      <td>6</td>\n",
       "      <td>5</td>\n",
       "      <td>6</td>\n",
       "      <td>5</td>\n",
       "      <td>5</td>\n",
       "      <td>4</td>\n",
       "      <td>6</td>\n",
       "      <td>7</td>\n",
       "      <td>...</td>\n",
       "      <td>8</td>\n",
       "      <td>8</td>\n",
       "      <td>7</td>\n",
       "      <td>9</td>\n",
       "      <td>2</td>\n",
       "      <td>1</td>\n",
       "      <td>4</td>\n",
       "      <td>6</td>\n",
       "      <td>7</td>\n",
       "      <td>2</td>\n",
       "    </tr>\n",
       "  </tbody>\n",
       "</table>\n",
       "<p>500 rows × 23 columns</p>\n",
       "</div>"
      ],
      "text/plain": [
       "     Age  Gender  Air Pollution  Alcohol use  Dust Allergy  \\\n",
       "680   27       2              3            1             4   \n",
       "177   45       1              3            2             4   \n",
       "395   55       1              3            1             1   \n",
       "911   29       2              6            7             7   \n",
       "793   17       1              3            1             5   \n",
       "..   ...     ...            ...          ...           ...   \n",
       "106   33       1              6            7             7   \n",
       "270   24       2              1            2             2   \n",
       "860   36       2              2            1             5   \n",
       "435   49       1              6            5             6   \n",
       "102   49       1              6            5             6   \n",
       "\n",
       "     OccuPational Hazards  Genetic Risk  chronic Lung Disease  Balanced Diet  \\\n",
       "680                     2             3                     2              3   \n",
       "177                     2             3                     2              3   \n",
       "395                     1             2                     3              4   \n",
       "911                     7             7                     6              7   \n",
       "793                     3             4                     2              2   \n",
       "..                    ...           ...                   ...            ...   \n",
       "106                     7             7                     7              6   \n",
       "270                     3             2                     4              2   \n",
       "860                     3             2                     3              2   \n",
       "435                     5             5                     4              6   \n",
       "102                     5             5                     4              6   \n",
       "\n",
       "     Obesity  ...  Coughing of Blood  Fatigue  Weight Loss  \\\n",
       "680        3  ...                  2        2            2   \n",
       "177        3  ...                  3        4            5   \n",
       "395        1  ...                  3        2            5   \n",
       "911        7  ...                  7        2            7   \n",
       "793        2  ...                  3        1            3   \n",
       "..       ...  ...                ...      ...          ...   \n",
       "106        7  ...                  7        8            5   \n",
       "270        3  ...                  1        1            1   \n",
       "860        4  ...                  4        6            7   \n",
       "435        7  ...                  8        8            7   \n",
       "102        7  ...                  8        8            7   \n",
       "\n",
       "     Shortness of Breath  Wheezing  Swallowing Difficulty  \\\n",
       "680                    3         4                      1   \n",
       "177                    6         5                      5   \n",
       "395                    2         1                      2   \n",
       "911                    6         7                      6   \n",
       "793                    7         8                      6   \n",
       "..                   ...       ...                    ...   \n",
       "106                    7         6                      7   \n",
       "270                    1         2                      3   \n",
       "860                    2         5                      8   \n",
       "435                    9         2                      1   \n",
       "102                    9         2                      1   \n",
       "\n",
       "     Clubbing of Finger Nails  Frequent Cold  Dry Cough  Snoring  \n",
       "680                         5              2          6        2  \n",
       "177                         4              6          5        4  \n",
       "395                         3              4          5        2  \n",
       "911                         7              2          3        1  \n",
       "793                         2              1          7        2  \n",
       "..                        ...            ...        ...      ...  \n",
       "106                         8              7          6        2  \n",
       "270                         4              5          2        1  \n",
       "860                         1              3          2        3  \n",
       "435                         4              6          7        2  \n",
       "102                         4              6          7        2  \n",
       "\n",
       "[500 rows x 23 columns]"
      ]
     },
     "execution_count": 17,
     "metadata": {},
     "output_type": "execute_result"
    }
   ],
   "source": [
    "X_train, X_test, y_train, y_test = train_test_split(X, y, test_size=0.5, random_state=42)\n",
    "X_train"
   ]
  },
  {
   "cell_type": "code",
   "execution_count": 18,
   "id": "10c035d7",
   "metadata": {},
   "outputs": [],
   "source": [
    "scaler = StandardScaler().fit(X_train)\n",
    "X_train_scaled = scaler.transform(X_train)"
   ]
  },
  {
   "cell_type": "markdown",
   "id": "8fc26825",
   "metadata": {},
   "source": [
    "## Logistic Regression"
   ]
  },
  {
   "cell_type": "markdown",
   "id": "347cc71c",
   "metadata": {},
   "source": [
    "### Using newton-cg\n",
    "More intensive on the computer to compute due to the amount of extra steps through Hessian Matrix. These extra steps are being made by it using both the first and second partial derivatives. Impressively was able to get a perfect training and testing score with few iterations"
   ]
  },
  {
   "cell_type": "code",
   "execution_count": 19,
   "id": "8b6cc06b",
   "metadata": {},
   "outputs": [
    {
     "name": "stdout",
     "output_type": "stream",
     "text": [
      "Training Model Score: 1.0\n",
      "Testing Model Score: 1.0\n"
     ]
    }
   ],
   "source": [
    "classifier_newton_cg = LogisticRegression(multi_class='multinomial', solver='newton-cg', penalty='l2', max_iter=50)\n",
    "classifier_newton_cg.fit(X_train, y_train)\n",
    "print(f\"Training Model Score: {classifier_newton_cg.score(X_train, y_train)}\")\n",
    "print(f\"Testing Model Score: {classifier_newton_cg.score(X_test, y_test)}\")"
   ]
  },
  {
   "cell_type": "code",
   "execution_count": 20,
   "id": "477e1901",
   "metadata": {},
   "outputs": [
    {
     "name": "stdout",
     "output_type": "stream",
     "text": [
      "[[156   0   0]\n",
      " [  0 156   0]\n",
      " [  0   0 188]]\n"
     ]
    }
   ],
   "source": [
    "y_pred = classifier_newton_cg.predict(X_test)\n",
    "print(confusion_matrix(y_test, y_pred))"
   ]
  },
  {
   "cell_type": "markdown",
   "id": "7fe6bd4d",
   "metadata": {},
   "source": [
    "### Using lbfgs\n",
    "The default solver for Logistic Regression. Unlike the previous solver this is approximate and stores a few vectors that represent it. Performs exceptional but required more interations. An error occurs likely due to the size of the dataset. The upside to this is that is less intensive and saves up more memory"
   ]
  },
  {
   "cell_type": "code",
   "execution_count": 21,
   "id": "f8bfe34a",
   "metadata": {},
   "outputs": [
    {
     "name": "stdout",
     "output_type": "stream",
     "text": [
      "Training Model Score: 1.0\n",
      "Testing Model Score: 1.0\n"
     ]
    },
    {
     "name": "stderr",
     "output_type": "stream",
     "text": [
      "C:\\Users\\cabon\\miniconda3\\envs\\ai_env\\lib\\site-packages\\sklearn\\linear_model\\_logistic.py:814: ConvergenceWarning: lbfgs failed to converge (status=1):\n",
      "STOP: TOTAL NO. of ITERATIONS REACHED LIMIT.\n",
      "\n",
      "Increase the number of iterations (max_iter) or scale the data as shown in:\n",
      "    https://scikit-learn.org/stable/modules/preprocessing.html\n",
      "Please also refer to the documentation for alternative solver options:\n",
      "    https://scikit-learn.org/stable/modules/linear_model.html#logistic-regression\n",
      "  n_iter_i = _check_optimize_result(\n"
     ]
    }
   ],
   "source": [
    "classifier_lbfgs = LogisticRegression(multi_class='multinomial', solver='lbfgs', penalty='l2', max_iter=200)\n",
    "classifier_lbfgs.fit(X_train, y_train)\n",
    "print(f\"Training Model Score: {classifier_lbfgs.score(X_train, y_train)}\")\n",
    "print(f\"Testing Model Score: {classifier_lbfgs.score(X_test, y_test)}\")"
   ]
  },
  {
   "cell_type": "code",
   "execution_count": 22,
   "id": "8ed81667",
   "metadata": {},
   "outputs": [
    {
     "name": "stdout",
     "output_type": "stream",
     "text": [
      "[[156   0   0]\n",
      " [  0 156   0]\n",
      " [  0   0 188]]\n"
     ]
    }
   ],
   "source": [
    "y_pred = classifier_lbfgs.predict(X_test)\n",
    "print(confusion_matrix(y_test, y_pred))"
   ]
  },
  {
   "cell_type": "markdown",
   "id": "2d52a0f5",
   "metadata": {},
   "source": [
    "### VIF (Variance inflation factor)\n",
    "This is a measure of colinearity among the predictor variables. Colinearity is when two variables are highly correlated and contain similar information in the dataset. However multicolineratiy, is when three or more variables are highly correlated in the model. This can cause difficulty in distinguishing individual effects on the dependent variable "
   ]
  },
  {
   "cell_type": "code",
   "execution_count": 23,
   "id": "22942121",
   "metadata": {},
   "outputs": [
    {
     "name": "stdout",
     "output_type": "stream",
     "text": [
      "                    features  vif_Factor\n",
      "0                        Age    8.878553\n",
      "1                     Gender    7.229196\n",
      "2              Air Pollution   18.730416\n",
      "3                Alcohol use   53.488354\n",
      "4               Dust Allergy   50.521043\n",
      "5       OccuPational Hazards  124.714056\n",
      "6               Genetic Risk  112.607021\n",
      "7       chronic Lung Disease   58.049623\n",
      "8              Balanced Diet   38.343194\n",
      "9                    Obesity   42.431869\n",
      "10                   Smoking   16.088311\n",
      "11            Passive Smoker   33.806212\n",
      "12                Chest Pain   39.990682\n",
      "13         Coughing of Blood   38.681090\n",
      "14                   Fatigue   14.379270\n",
      "15               Weight Loss   15.035395\n",
      "16       Shortness of Breath   20.944738\n",
      "17                  Wheezing   10.630942\n",
      "18     Swallowing Difficulty   11.949525\n",
      "19  Clubbing of Finger Nails   10.794104\n",
      "20             Frequent Cold   11.774023\n",
      "21                 Dry Cough   10.309063\n",
      "22                   Snoring    8.787071\n"
     ]
    }
   ],
   "source": [
    "vif = pd.DataFrame()\n",
    "vif[\"features\"] = X.columns\n",
    "vif[\"vif_Factor\"] = [variance_inflation_factor(X.values, i) for i in range(X.shape[1])]\n",
    "print(vif)"
   ]
  }
 ],
 "metadata": {
  "kernelspec": {
   "display_name": "Python 3 (ipykernel)",
   "language": "python",
   "name": "python3"
  },
  "language_info": {
   "codemirror_mode": {
    "name": "ipython",
    "version": 3
   },
   "file_extension": ".py",
   "mimetype": "text/x-python",
   "name": "python",
   "nbconvert_exporter": "python",
   "pygments_lexer": "ipython3",
   "version": "3.9.6"
  }
 },
 "nbformat": 4,
 "nbformat_minor": 5
}
